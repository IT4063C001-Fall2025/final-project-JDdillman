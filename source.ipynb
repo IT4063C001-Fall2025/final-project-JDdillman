{
 "cells": [
  {
   "attachments": {},
   "cell_type": "markdown",
   "metadata": {},
   "source": [
    "# {The Rising Impact of Data Breaches in the U.S.}📝\n",
    "\n",
    "![Banner](./assets/banner.jpeg)"
   ]
  },
  {
   "attachments": {},
   "cell_type": "markdown",
   "metadata": {},
   "source": [
    "## Topic\n",
    "*What problem are you (or your stakeholder) trying to address?*\n",
    "📝 <!-- Answer Below -->\n",
    "I want to talk about cybersecurity and data privacy, specifically analyzing patterns in data \n",
    "breaches in the United States. Every year, millions of people are affected by compromised personal \n",
    "data, which can result in identity theft, financial loss, and a decline in faith in businesses and \n",
    "technology. The rise of cloud platforms, artificial intelligence, and digitalservices has led to a \n",
    "rise in the collection of sensitive data, but laws and safeguards are frequently lagging behind. \n",
    "This makes the topic important today. Analyzing breach trends can help us identify weak points and \n",
    "improve data security for both individuals and corporations."
   ]
  },
  {
   "attachments": {},
   "cell_type": "markdown",
   "metadata": {},
   "source": [
    "## Project Question\n",
    "*What specific question are you seeking to answer with this project?*\n",
    "*This is not the same as the questions you ask to limit the scope of the project.*\n",
    "📝 <!-- Answer Below -->\n",
    "1. How have data breaches in the US changed over time in terms of both quantity and severity?\n",
    "2. Which sectors are most commonly the focus of data breaches caused by cyberattacks?\n",
    "3. What types of data (financial, healthcare, personal identifiers, etc.) are most often compromised, and what patterns exist?"
   ]
  },
  {
   "attachments": {},
   "cell_type": "markdown",
   "metadata": {},
   "source": [
    "## What would an answer look like?\n",
    "*What is your hypothesized answer to your question?*\n",
    "📝 <!-- Answer Below -->\n",
    "A line chart showing the number of breaches per year.\n",
    "A bar chart comparing breaches across industries.\n",
    "A stacked bar or pie chart showing the breakdown of data types exposed."
   ]
  },
  {
   "attachments": {},
   "cell_type": "markdown",
   "metadata": {},
   "source": [
    "## Data Sources\n",
    "*What 3 data sources have you identified for this project?*\n",
    "*How are you going to relate these datasets?*\n",
    "📝 <!-- Answer Below -->\n",
    "1.Annual reports with comprehensive breach statistics are available as files or PDFs from the Identity Theft Resource Center (ITRC).\n",
    "2.Chronology of Data Breaches by Privacy Rights Clearinghouse is a searchable database that includes variables like date, organization type, and type of data exposed (database/CSV).\n",
    "3.The Breach Portal of the U.S. Department of Health and Human Services (HHS) contains comprehensive records of data breaches pertaining to healthcare (API and downloadable data)."
   ]
  },
  {
   "attachments": {},
   "cell_type": "markdown",
   "metadata": {},
   "source": [
    "## Approach and Analysis\n",
    "*What is your approach to answering your project question?*\n",
    "*How will you use the identified data to answer your project question?*\n",
    "📝 <!-- Start Discussing the project here; you can add as many code cells as you need -->"
   ]
  },
  {
   "cell_type": "code",
   "execution_count": null,
   "metadata": {},
   "outputs": [],
   "source": [
    "# Start your code here\n",
    "# Compare breaches by industry\n",
    "breaches_by_industry = df['Industry'].value_counts().head(10)\n",
    "\n",
    "plt.figure(figsize=(10,6))\n",
    "breaches_by_industry.plot(kind='bar')\n",
    "plt.title(\"Top 10 Industries by Data Breaches\")\n",
    "plt.xlabel(\"Industry\")\n",
    "plt.ylabel(\"Number of Breaches\")\n",
    "plt.show()"
   ]
  },
  {
   "attachments": {},
   "cell_type": "markdown",
   "metadata": {},
   "source": [
    "## Resources and References\n",
    "*What resources and references have you used for this project?*\n",
    "📝 <!-- Answer Below -->\n",
    "https://www.nist.gov/cyberframework\n",
    "https://ocrportal.hhs.gov/ocr/breach/breach_report.jsf\n",
    "https://privacyrights.org/\n",
    "https://www.idtheftcenter.org/"
   ]
  },
  {
   "cell_type": "code",
   "execution_count": null,
   "metadata": {},
   "outputs": [
    {
     "name": "stdout",
     "output_type": "stream",
     "text": [
      "[NbConvertApp] Converting notebook source.ipynb to python\n",
      "[NbConvertApp] Writing 1271 bytes to source.py\n"
     ]
    }
   ],
   "source": [
    "# ⚠️ Make sure you run this cell at the end of your notebook before every submission!\n",
    "!jupyter nbconvert --to python source.ipynb\n",
    "\n"
   ]
  }
 ],
 "metadata": {
  "kernelspec": {
   "display_name": "Final-Project-Template-unx06iZ2",
   "language": "python",
   "name": "python3"
  },
  "language_info": {
   "codemirror_mode": {
    "name": "ipython",
    "version": 3
   },
   "file_extension": ".py",
   "mimetype": "text/x-python",
   "name": "python",
   "nbconvert_exporter": "python",
   "pygments_lexer": "ipython3",
   "version": "3.11.1"
  },
  "orig_nbformat": 4,
  "vscode": {
   "interpreter": {
    "hash": "8f59090b806211711d8ea6da25ee5b1ccb272a75a21b9536283520350d8dfda7"
   }
  }
 },
 "nbformat": 4,
 "nbformat_minor": 2
}
